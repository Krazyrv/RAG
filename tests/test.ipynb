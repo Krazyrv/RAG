{
 "cells": [
  {
   "cell_type": "code",
   "execution_count": null,
   "metadata": {},
   "outputs": [
    {
     "name": "stdout",
     "output_type": "stream",
     "text": [
      "<generator object create_generator at 0x000002E527B25150>\n",
      "0\n",
      "say hi\n",
      "1\n",
      "say hi\n",
      "4\n",
      "say hi\n"
     ]
    },
    {
     "ename": "",
     "evalue": "",
     "output_type": "error",
     "traceback": [
      "\u001b[1;31mThe Kernel crashed while executing code in the current cell or a previous cell. \n",
      "\u001b[1;31mPlease review the code in the cell(s) to identify a possible cause of the failure. \n",
      "\u001b[1;31mClick <a href='https://aka.ms/vscodeJupyterKernelCrash'>here</a> for more info. \n",
      "\u001b[1;31mView Jupyter <a href='command:jupyter.viewOutput'>log</a> for further details."
     ]
    }
   ],
   "source": [
    "def create_generator():\n",
    "    mylist = range(3)\n",
    "    for i in mylist:\n",
    "        yield i*i\n",
    "        # print(\"say hey\")\n",
    "\n",
    "mygenerator = create_generator() # create a generator\n",
    "print(mygenerator) # mygenerator is an object!\n",
    "\n",
    "for i in mygenerator:\n",
    "    print(i)\n",
    "    print(\"say hi\")"
   ]
  },
  {
   "cell_type": "code",
   "execution_count": 8,
   "metadata": {},
   "outputs": [
    {
     "name": "stdout",
     "output_type": "stream",
     "text": [
      "$100\n",
      "$100\n",
      "['$100', '$100', '$100', '$100', '$100']\n"
     ]
    },
    {
     "ename": "StopIteration",
     "evalue": "",
     "output_type": "error",
     "traceback": [
      "\u001b[1;31m---------------------------------------------------------------------------\u001b[0m",
      "\u001b[1;31mStopIteration\u001b[0m                             Traceback (most recent call last)",
      "Cell \u001b[1;32mIn[8], line 15\u001b[0m\n\u001b[0;32m     13\u001b[0m [\u001b[38;5;124m'\u001b[39m\u001b[38;5;124m$100\u001b[39m\u001b[38;5;124m'\u001b[39m, \u001b[38;5;124m'\u001b[39m\u001b[38;5;124m$100\u001b[39m\u001b[38;5;124m'\u001b[39m, \u001b[38;5;124m'\u001b[39m\u001b[38;5;124m$100\u001b[39m\u001b[38;5;124m'\u001b[39m, \u001b[38;5;124m'\u001b[39m\u001b[38;5;124m$100\u001b[39m\u001b[38;5;124m'\u001b[39m, \u001b[38;5;124m'\u001b[39m\u001b[38;5;124m$100\u001b[39m\u001b[38;5;124m'\u001b[39m]\n\u001b[0;32m     14\u001b[0m hsbc\u001b[38;5;241m.\u001b[39mcrisis \u001b[38;5;241m=\u001b[39m \u001b[38;5;28;01mTrue\u001b[39;00m \u001b[38;5;66;03m# Crisis is coming, no more money!\u001b[39;00m\n\u001b[1;32m---> 15\u001b[0m \u001b[38;5;28mprint\u001b[39m(\u001b[43mcorner_street_atm\u001b[49m\u001b[38;5;241;43m.\u001b[39;49m\u001b[38;5;21;43m__next__\u001b[39;49m\u001b[43m(\u001b[49m\u001b[43m)\u001b[49m)\n\u001b[0;32m     16\u001b[0m \u001b[38;5;66;03m# <type 'exceptions.StopIteration'>\u001b[39;00m\n\u001b[0;32m     17\u001b[0m wall_street_atm \u001b[38;5;241m=\u001b[39m hsbc\u001b[38;5;241m.\u001b[39mcreate_atm() \u001b[38;5;66;03m# It's even true for new ATMs\u001b[39;00m\n",
      "\u001b[1;31mStopIteration\u001b[0m: "
     ]
    }
   ],
   "source": [
    "class Bank(): # Let's create a bank, building ATMs\n",
    "    crisis = False\n",
    "    def create_atm(self):\n",
    "        while not self.crisis:\n",
    "            yield \"$100\"\n",
    "hsbc = Bank() # When everything's ok the ATM gives you as much as you want\n",
    "corner_street_atm = hsbc.create_atm()\n",
    "print(corner_street_atm.__next__())\n",
    "\n",
    "print(corner_street_atm.__next__())\n",
    "\n",
    "print([corner_street_atm.__next__() for cash in range(5)])\n",
    "['$100', '$100', '$100', '$100', '$100']\n",
    "hsbc.crisis = True # Crisis is coming, no more money!\n",
    "print(corner_street_atm.__next__())\n",
    "# <type 'exceptions.StopIteration'>\n",
    "wall_street_atm = hsbc.create_atm() # It's even true for new ATMs\n",
    "print(wall_street_atm.__next__())\n",
    "# <type 'exceptions.StopIteration'>\n",
    "hsbc.crisis = False # The trouble is, even post-crisis the ATM remains empty\n",
    "print(corner_street_atm.__next__())\n",
    "# <type 'exceptions.StopIteration'>\n",
    "brand_new_atm = hsbc.create_atm() # Build a new one to get back in business\n",
    "for cash in brand_new_atm:\n",
    "    print(cash)"
   ]
  },
  {
   "cell_type": "code",
   "execution_count": null,
   "metadata": {},
   "outputs": [],
   "source": []
  }
 ],
 "metadata": {
  "kernelspec": {
   "display_name": "rag",
   "language": "python",
   "name": "python3"
  },
  "language_info": {
   "codemirror_mode": {
    "name": "ipython",
    "version": 3
   },
   "file_extension": ".py",
   "mimetype": "text/x-python",
   "name": "python",
   "nbconvert_exporter": "python",
   "pygments_lexer": "ipython3",
   "version": "3.12.4"
  }
 },
 "nbformat": 4,
 "nbformat_minor": 2
}
