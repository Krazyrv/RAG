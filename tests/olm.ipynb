{
 "cells": [
  {
   "cell_type": "code",
   "execution_count": 2,
   "metadata": {},
   "outputs": [
    {
     "name": "stdout",
     "output_type": "stream",
     "text": [
      "The sky appears blue to us during the day because of a phenomenon called scattering. When sunlight enters Earth's atmosphere, it encounters tiny molecules of gases such as nitrogen and oxygen. These molecules scatter the light in all directions.\n",
      "\n",
      "Here's what happens:\n",
      "\n",
      "1.  **Scattering:** The shorter (blue) wavelengths of light are scattered more than the longer (red) wavelengths by the gas molecules.\n",
      "2.  **Reaching our eyes:** The blue light that is scattered in our direction reaches our eyes, making the sky appear blue to us.\n",
      "\n",
      "The scattering effect also explains why the sky can look red during sunrise and sunset. When the sun is low on the horizon, the light it emits has to travel through more of the Earth's atmosphere, scattering off more molecules. This scatters all wavelengths of light equally, but our eyes are more sensitive to longer (red) wavelengths at this time.\n",
      "\n",
      "So, while the sky isn't actually blue in the sense that it has a specific property like being transparent or opaque, it appears so because of how we perceive the scattered sunlight.\n",
      "The sky appears blue to us during the day because of a phenomenon called scattering. When sunlight enters Earth's atmosphere, it encounters tiny molecules of gases such as nitrogen and oxygen. These molecules scatter the light in all directions.\n",
      "\n",
      "Here's what happens:\n",
      "\n",
      "1.  **Scattering:** The shorter (blue) wavelengths of light are scattered more than the longer (red) wavelengths by the gas molecules.\n",
      "2.  **Reaching our eyes:** The blue light that is scattered in our direction reaches our eyes, making the sky appear blue to us.\n",
      "\n",
      "The scattering effect also explains why the sky can look red during sunrise and sunset. When the sun is low on the horizon, the light it emits has to travel through more of the Earth's atmosphere, scattering off more molecules. This scatters all wavelengths of light equally, but our eyes are more sensitive to longer (red) wavelengths at this time.\n",
      "\n",
      "So, while the sky isn't actually blue in the sense that it has a specific property like being transparent or opaque, it appears so because of how we perceive the scattered sunlight.\n"
     ]
    }
   ],
   "source": [
    "from ollama import chat\n",
    "from ollama import ChatResponse\n",
    "\n",
    "response: ChatResponse = chat(model='llama3.1', messages=[\n",
    "  {\n",
    "    'role': 'user',\n",
    "    'content': 'Why is the sky blue?',\n",
    "  },\n",
    "])\n",
    "print(response['message']['content'])\n",
    "# or access fields directly from the response object\n",
    "print(response.message.content)"
   ]
  }
 ],
 "metadata": {
  "kernelspec": {
   "display_name": "rag",
   "language": "python",
   "name": "python3"
  },
  "language_info": {
   "codemirror_mode": {
    "name": "ipython",
    "version": 3
   },
   "file_extension": ".py",
   "mimetype": "text/x-python",
   "name": "python",
   "nbconvert_exporter": "python",
   "pygments_lexer": "ipython3",
   "version": "3.12.4"
  }
 },
 "nbformat": 4,
 "nbformat_minor": 2
}
